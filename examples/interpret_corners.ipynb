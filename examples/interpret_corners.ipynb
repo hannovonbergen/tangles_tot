{
 "cells": [
  {
   "cell_type": "markdown",
   "metadata": {},
   "source": [
    "# Interpret Corners"
   ]
  },
  {
   "cell_type": "markdown",
   "metadata": {},
   "source": [
    "After uncrossing the efficient distinguishers with the tree of tangles algorithm we often have the problem of the efficient distinguishers not being features we originally added to the feature system but instead corners, or even worse, corners of corners of corners... \n",
    "\n",
    "Interpreting these corners can be a challenge, especially since tracking which corners we intersected to obtain a certain efficient distinguisher leads to complicated and highly redundant descriptions.\n",
    "\n",
    "The tangles_tot library provides some tools to make it easier to interpret these corners by reconstructing a, hopefully, more simple description of features, in terms of intersections, unions and complements of the features originally added to the feature system. "
   ]
  },
  {
   "cell_type": "markdown",
   "metadata": {},
   "source": [
    "## Features and Logic Terms"
   ]
  },
  {
   "cell_type": "markdown",
   "metadata": {
    "vscode": {
     "languageId": "plaintext"
    }
   },
   "source": [
    "We translate the concept of features, intersection, union and complement into the language of logic. \n",
    "\n",
    "We can associate a feature $A \\subseteq V$ with the statement $v \\in A$. For simplicity we describe this statement\n",
    "simply by $A$. The inverse feature $V \\setminus A$ can therefore be described by the statement $\\lnot A$. \n",
    "Similarly the intersection $A \\cap B$ of two features $A, B \\subseteq V$ can be described by $A \\land B$ and \n",
    "similarly the union $A \\cup B$ by $A \\lor B$. \n",
    "\n",
    "In this way the logic terms give us an interpretation of the meaning behind the efficient distinguisher features. "
   ]
  },
  {
   "cell_type": "markdown",
   "metadata": {},
   "source": [
    "## Reconstructing Features"
   ]
  },
  {
   "cell_type": "markdown",
   "metadata": {},
   "source": [
    "Let us start with a simple example showing how the tool can be used."
   ]
  },
  {
   "cell_type": "code",
   "execution_count": 1,
   "metadata": {},
   "outputs": [
    {
     "data": {
      "text/plain": [
       "2"
      ]
     },
     "execution_count": 1,
     "metadata": {},
     "output_type": "execute_result"
    }
   ],
   "source": [
    "import numpy as np\n",
    "from tangles_tot.features import interpret_feature\n",
    "from tangles.separations.system import FeatureSystem\n",
    "\n",
    "#building a feature system feat_sys which contains two features: A and B\n",
    "features = np.array(\n",
    "    [\n",
    "        [1, -1],\n",
    "        [1, 1],\n",
    "        [-1, 1],\n",
    "        [-1, -1]\n",
    "    ],\n",
    ")\n",
    "metadata = [\"A\", \"B\"]\n",
    "feat_sys = FeatureSystem.with_array(features, metadata = metadata)\n",
    "len(feat_sys)"
   ]
  },
  {
   "cell_type": "code",
   "execution_count": 2,
   "metadata": {},
   "outputs": [
    {
     "name": "stdout",
     "output_type": "stream",
     "text": [
      "a and b (5, 1)\n",
      "a or b (2, -1)\n"
     ]
    }
   ],
   "source": [
    "corner_ids, corner_specifications = feat_sys.get_corners(0, 1) #adding two corners to feat_sys\n",
    "# the index 3 corresponds to the infimum of (0, 1) and (1, 1)\n",
    "a_and_b = (corner_ids[3], corner_specifications[3])\n",
    "# the index 0 corresponds to the infimum of (0, -1) and (1, -1), the inverse of \"a or b\"\n",
    "a_or_b = (corner_ids[0], -corner_specifications[0])\n",
    "print(\"a and b\", a_and_b)\n",
    "print(\"a or b\", a_or_b)"
   ]
  },
  {
   "cell_type": "code",
   "execution_count": 3,
   "metadata": {},
   "outputs": [
    {
     "name": "stdout",
     "output_type": "stream",
     "text": [
      "(0, 1) A\n",
      "(0, -1) ¬A\n",
      "(1, 1) B\n",
      "(1, -1) ¬B\n",
      "a and b A ∧ B\n",
      "inverse of (a and b) ¬B ∨ ¬A\n",
      "a or b A ∨ B\n",
      "inverse of (a or b) ¬A ∧ ¬B\n"
     ]
    }
   ],
   "source": [
    "print(\"(0, 1)\", interpret_feature((0, 1), feat_sys))\n",
    "print(\"(0, -1)\", interpret_feature((0, -1), feat_sys))\n",
    "print(\"(1, 1)\", interpret_feature((1, 1), feat_sys))\n",
    "print(\"(1, -1)\", interpret_feature((1, -1), feat_sys))\n",
    "print(\"a and b\", interpret_feature((a_and_b), feat_sys))\n",
    "print(\"inverse of (a and b)\", interpret_feature((a_and_b[0], -a_and_b[1]), feat_sys))\n",
    "print(\"a or b\", interpret_feature((a_or_b), feat_sys))\n",
    "print(\"inverse of (a or b)\", interpret_feature((a_or_b[0], -a_or_b[1]), feat_sys))"
   ]
  },
  {
   "cell_type": "markdown",
   "metadata": {},
   "source": [
    "## Conditional Features"
   ]
  },
  {
   "cell_type": "markdown",
   "metadata": {},
   "source": [
    "While already helpful the previous terms can still grow quite long in practical tree of tangles. To allow for some simplification we introduce another method. This method allows us to calculate conditional features. Let us show what we mean by an example."
   ]
  },
  {
   "cell_type": "markdown",
   "metadata": {},
   "source": [
    "Suppose we have a tree of tangles consisting of the three nested features $A \\cap B \\leq A \\leq A \\cup B$. Then we could take $A$ as a \"baseline\" and consider for $A \\cap B$ what it does _in addition_ to $A$, which, translated to the language of logic means that we look for a statement which is equal to $A \\cup B$ under the condition that we know that $A$ is true. \n",
    "\n",
    "Similarly for the other feature $A \\cup B$ under the condition $A$ is not interesting, as this is always true. But for their inverses $V \\setminus (A \\cup B)$ under the condition $A$ is $\\lnot B$.  "
   ]
  },
  {
   "cell_type": "code",
   "execution_count": 5,
   "metadata": {},
   "outputs": [
    {
     "name": "stdout",
     "output_type": "stream",
     "text": [
      "a and b under condition a    B\n",
      "a or b under condition a    true\n",
      "not (a or b) under condition not a    ¬B\n"
     ]
    }
   ],
   "source": [
    "print(\"a and b under condition a   \", interpret_feature(a_and_b, feat_sys, under_condition=[(0, 1)]))\n",
    "print(\"a or b under condition a   \", interpret_feature(a_or_b, feat_sys, under_condition=[(0, 1)]))\n",
    "print(\"not (a or b) under condition not a   \", interpret_feature((a_or_b[0], -a_or_b[1]), feat_sys, under_condition=[(0, -1)]))"
   ]
  }
 ],
 "metadata": {
  "kernelspec": {
   "display_name": "tot-dev",
   "language": "python",
   "name": "python3"
  },
  "language_info": {
   "codemirror_mode": {
    "name": "ipython",
    "version": 3
   },
   "file_extension": ".py",
   "mimetype": "text/x-python",
   "name": "python",
   "nbconvert_exporter": "python",
   "pygments_lexer": "ipython3",
   "version": "3.11.0"
  }
 },
 "nbformat": 4,
 "nbformat_minor": 2
}
